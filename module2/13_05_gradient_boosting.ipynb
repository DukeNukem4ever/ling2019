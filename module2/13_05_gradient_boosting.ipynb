{
  "nbformat": 4,
  "nbformat_minor": 0,
  "metadata": {
    "colab": {
      "name": "13.05_gradient_boosting.ipynb",
      "provenance": []
    },
    "kernelspec": {
      "name": "python3",
      "display_name": "Python 3"
    }
  },
  "cells": [
    {
      "cell_type": "markdown",
      "metadata": {
        "id": "56ZyiZ0u-bjj",
        "colab_type": "text"
      },
      "source": [
        "# Градиентный бустинг над деревьями"
      ]
    },
    {
      "cell_type": "markdown",
      "metadata": {
        "id": "TzX2n2-l-quQ",
        "colab_type": "text"
      },
      "source": [
        "Грузим датасет Wine. Будем предсказывать происхождение вина по его химическим характеристикам. "
      ]
    },
    {
      "cell_type": "code",
      "metadata": {
        "id": "a5DmIVb4-q4a",
        "colab_type": "code",
        "colab": {}
      },
      "source": [
        "import numpy as np\n",
        "import pandas as pd\n",
        "from sklearn.datasets import load_wine\n",
        "import matplotlib.pyplot as plt\n",
        "%matplotlib inline"
      ],
      "execution_count": 0,
      "outputs": []
    },
    {
      "cell_type": "code",
      "metadata": {
        "id": "hYL02uMlCLhh",
        "colab_type": "code",
        "colab": {}
      },
      "source": [
        "wine = load_wine()"
      ],
      "execution_count": 0,
      "outputs": []
    },
    {
      "cell_type": "code",
      "metadata": {
        "id": "L2erzPOECNw0",
        "colab_type": "code",
        "colab": {}
      },
      "source": [
        "print(wine.DESCR)"
      ],
      "execution_count": 0,
      "outputs": []
    },
    {
      "cell_type": "code",
      "metadata": {
        "id": "ZElKG8UiCoY7",
        "colab_type": "code",
        "colab": {}
      },
      "source": [
        "data = pd.DataFrame(wine['data'], columns=wine['feature_names'])\n",
        "target = wine.target"
      ],
      "execution_count": 0,
      "outputs": []
    },
    {
      "cell_type": "code",
      "metadata": {
        "id": "3-_5RBEpFpbq",
        "colab_type": "code",
        "colab": {}
      },
      "source": [
        "data.head(10)"
      ],
      "execution_count": 0,
      "outputs": []
    },
    {
      "cell_type": "markdown",
      "metadata": {
        "id": "AKFbG82HGGIr",
        "colab_type": "text"
      },
      "source": [
        "Сколько всего классов в обучающей выборке? Как они распределены?"
      ]
    },
    {
      "cell_type": "code",
      "metadata": {
        "id": "3K_ByMzvXnmX",
        "colab_type": "code",
        "colab": {}
      },
      "source": [
        ""
      ],
      "execution_count": 0,
      "outputs": []
    },
    {
      "cell_type": "markdown",
      "metadata": {
        "id": "KF1IxE1sHXY-",
        "colab_type": "text"
      },
      "source": [
        "Делим на обучающую и тестовую выборку. Что нужно не забыть сделать?"
      ]
    },
    {
      "cell_type": "code",
      "metadata": {
        "id": "0K9kBSeYRi0D",
        "colab_type": "code",
        "colab": {}
      },
      "source": [
        "SEED=25"
      ],
      "execution_count": 0,
      "outputs": []
    },
    {
      "cell_type": "code",
      "metadata": {
        "id": "nI8bnYE5HeJi",
        "colab_type": "code",
        "colab": {}
      },
      "source": [
        "from sklearn.model_selection import train_test_split\n",
        "X_train, X_test, y_train, y_test = train_test_split(data, target, test_size=0.3, random_state=SEED)"
      ],
      "execution_count": 0,
      "outputs": []
    },
    {
      "cell_type": "markdown",
      "metadata": {
        "id": "Qlow0-CQIBlz",
        "colab_type": "text"
      },
      "source": [
        "Обучаем одно дерево"
      ]
    },
    {
      "cell_type": "code",
      "metadata": {
        "id": "TpijONn8JYEo",
        "colab_type": "code",
        "colab": {}
      },
      "source": [
        "from sklearn.tree import DecisionTreeClassifier"
      ],
      "execution_count": 0,
      "outputs": []
    },
    {
      "cell_type": "code",
      "metadata": {
        "id": "pShgTLg8JcPF",
        "colab_type": "code",
        "colab": {}
      },
      "source": [
        "tree_clf = DecisionTreeClassifier()"
      ],
      "execution_count": 0,
      "outputs": []
    },
    {
      "cell_type": "code",
      "metadata": {
        "id": "OOFyxF4fJh1x",
        "colab_type": "code",
        "colab": {}
      },
      "source": [
        "tree_clf.fit(X_train, y_train)"
      ],
      "execution_count": 0,
      "outputs": []
    },
    {
      "cell_type": "code",
      "metadata": {
        "id": "wKbGEDK0KNE4",
        "colab_type": "code",
        "colab": {}
      },
      "source": [
        "y_pred = tree_clf.predict(X_test)"
      ],
      "execution_count": 0,
      "outputs": []
    },
    {
      "cell_type": "code",
      "metadata": {
        "id": "xSPNi2veKHhq",
        "colab_type": "code",
        "colab": {}
      },
      "source": [
        "from sklearn.metrics import classification_report\n",
        "print(classification_report(y_test, y_pred))"
      ],
      "execution_count": 0,
      "outputs": []
    },
    {
      "cell_type": "markdown",
      "metadata": {
        "id": "oLMC1HiyIUCP",
        "colab_type": "text"
      },
      "source": [
        "Обучаем градиентный бустинг"
      ]
    },
    {
      "cell_type": "code",
      "metadata": {
        "id": "0a0le9rQIdHu",
        "colab_type": "code",
        "colab": {}
      },
      "source": [
        "from sklearn.ensemble import GradientBoostingClassifier"
      ],
      "execution_count": 0,
      "outputs": []
    },
    {
      "cell_type": "code",
      "metadata": {
        "id": "4F0jnYd-IqE8",
        "colab_type": "code",
        "colab": {}
      },
      "source": [
        "gb_clf = GradientBoostingClassifier(verbose=10)"
      ],
      "execution_count": 0,
      "outputs": []
    },
    {
      "cell_type": "code",
      "metadata": {
        "id": "HiFS8aYhI0Ro",
        "colab_type": "code",
        "colab": {}
      },
      "source": [
        "gb_clf.fit(X_train, y_train)"
      ],
      "execution_count": 0,
      "outputs": []
    },
    {
      "cell_type": "code",
      "metadata": {
        "id": "6H99ls2_I6b_",
        "colab_type": "code",
        "colab": {}
      },
      "source": [
        "y_pred = gb_clf.predict(X_test)"
      ],
      "execution_count": 0,
      "outputs": []
    },
    {
      "cell_type": "code",
      "metadata": {
        "id": "s9dqw-UIJLGN",
        "colab_type": "code",
        "colab": {}
      },
      "source": [
        "print(classification_report(y_test, y_pred))"
      ],
      "execution_count": 0,
      "outputs": []
    },
    {
      "cell_type": "markdown",
      "metadata": {
        "id": "664gBrC-J6Eq",
        "colab_type": "text"
      },
      "source": [
        "Сколько деревьев мы обучили? А сколько было бы достаточно для получения текущего качества?"
      ]
    },
    {
      "cell_type": "code",
      "metadata": {
        "id": "mpxAH6b1XpD9",
        "colab_type": "code",
        "colab": {}
      },
      "source": [
        ""
      ],
      "execution_count": 0,
      "outputs": []
    },
    {
      "cell_type": "markdown",
      "metadata": {
        "id": "9wOgJbKZSCyK",
        "colab_type": "text"
      },
      "source": [
        "**Early stopping** - перестать обучаться, если ошибка не уменьшается/ уменьшается незначительно. \n",
        "За это отвечают следующие параметры модели:\n",
        "+ ***tol***, *default=0.0001* - tolerance for the early stopping\n",
        "+ ***n_iter_no_change***, *default=None* - is used to decide if early stopping will be used to terminate training when validation score is not improving\n",
        "+ Если ошибка не уменьшается хотя бы на **tol**  в течение ***n_iter_no_change*** итераций, то прекращаем обучение. "
      ]
    },
    {
      "cell_type": "code",
      "metadata": {
        "id": "CKh6VPzUSGaq",
        "colab_type": "code",
        "colab": {}
      },
      "source": [
        "gb_clf_es = GradientBoostingClassifier(n_iter_no_change=5, verbose=10)"
      ],
      "execution_count": 0,
      "outputs": []
    },
    {
      "cell_type": "code",
      "metadata": {
        "id": "ixOx2XzXUfTj",
        "colab_type": "code",
        "colab": {}
      },
      "source": [
        "gb_clf_es.fit(X_train, y_train)"
      ],
      "execution_count": 0,
      "outputs": []
    },
    {
      "cell_type": "code",
      "metadata": {
        "id": "rYn1u83nUnXw",
        "colab_type": "code",
        "colab": {}
      },
      "source": [
        "y_pred = gb_clf.predict(X_test)"
      ],
      "execution_count": 0,
      "outputs": []
    },
    {
      "cell_type": "code",
      "metadata": {
        "id": "bNa2oTmbUrlp",
        "colab_type": "code",
        "colab": {}
      },
      "source": [
        "print(classification_report(y_test, y_pred))"
      ],
      "execution_count": 0,
      "outputs": []
    },
    {
      "cell_type": "markdown",
      "metadata": {
        "id": "V9EjWrZxOsJc",
        "colab_type": "text"
      },
      "source": [
        "Можно предсказывать не только метки классов, но и их вероятности. "
      ]
    },
    {
      "cell_type": "code",
      "metadata": {
        "id": "Aiew0tc8O0Dg",
        "colab_type": "code",
        "colab": {}
      },
      "source": [
        "probas = gb_clf.predict_proba(X_test)"
      ],
      "execution_count": 0,
      "outputs": []
    },
    {
      "cell_type": "code",
      "metadata": {
        "id": "lRFwxWpZPLsv",
        "colab_type": "code",
        "colab": {}
      },
      "source": [
        "probas.shape"
      ],
      "execution_count": 0,
      "outputs": []
    },
    {
      "cell_type": "markdown",
      "metadata": {
        "id": "rf3BPtnxK9Nd",
        "colab_type": "text"
      },
      "source": [
        "Можно посмотреть коэффициенты важности признаков, так же как у рандомного леса. Какие признаки самые важные?"
      ]
    },
    {
      "cell_type": "code",
      "metadata": {
        "id": "uLLZdMptRYYY",
        "colab_type": "code",
        "colab": {}
      },
      "source": [
        "gb_clf.feature_importances_"
      ],
      "execution_count": 0,
      "outputs": []
    }
  ]
}