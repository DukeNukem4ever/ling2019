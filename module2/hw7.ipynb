{
  "nbformat": 4,
  "nbformat_minor": 0,
  "metadata": {
    "colab": {
      "name": "hw7.ipynb",
      "provenance": [],
      "collapsed_sections": []
    },
    "kernelspec": {
      "name": "python3",
      "display_name": "Python 3"
    }
  },
  "cells": [
    {
      "cell_type": "markdown",
      "metadata": {
        "id": "krzK_Qr_HJux",
        "colab_type": "text"
      },
      "source": [
        "# Домашнее задание 7. Градиентный бустинг над решающими деревьями. Регрессия. "
      ]
    },
    {
      "cell_type": "markdown",
      "metadata": {
        "id": "dCVjmYY3IG6P",
        "colab_type": "text"
      },
      "source": [
        "Дедлайн: 07.06.2020 23:59"
      ]
    },
    {
      "cell_type": "markdown",
      "metadata": {
        "id": "APrspO2sHaz0",
        "colab_type": "text"
      },
      "source": [
        "При градиентном бустинге деревья обучаются итеративно. Каждое новое дерево обучается на ошибках предыдущего. \n",
        "Алгоритм обучения градиентного бустинга:\n",
        "+ $T$ - количество деревьев\n",
        "+ $\\gamma$ - размер шага (learning_rate)\n",
        "+ $\\{ (x_i, y_i )\\}_{i=1}^N$ - обучающая выборка\n",
        "1. Инициализировать массив предсказаний $prediction$ ансамбля, заполнив его нулями. \n",
        "2. For $t$ in $1...T$\n",
        "    1. Посчитать остатки - антиградиент функции ошибки. \\\\\n",
        "       $mse(y,prediction) = (y - prediction)^2$ - ошибка \\\\\n",
        "       $\\nabla_{prediction} mse(y,prediction) = prediction - y$ - градиент \\\\\n",
        "       $residuals_t = y - prediction$ - антиградиент\n",
        "    2. Обучить дерево $b_t$, обучающая выборка: \n",
        "$ \\{ (x_i, residuals_{t, i} ) \\}_{i=1}^N$ (в качестве целевой переменной выступают остатки)\n",
        "    3. Сделать предсказание обученным деревом: \n",
        "    $prediction_t = b_t(x)$\n",
        "    4. Прибавить предсказанние текущей модели умноженное на размер шага к вектору предсказаний ансамбля: $prediction \\mathrel{+}= \\gamma*prediction_t$\n",
        "\n",
        "\n",
        "\n",
        "\n",
        "Итоговый ансамбль имеет вид:  $a(x) = \\sum_{t = 1}^T (\\gamma b_t(x))$\n",
        "\n",
        "       "
      ]
    },
    {
      "cell_type": "markdown",
      "metadata": {
        "id": "BsAuacJzaz3K",
        "colab_type": "text"
      },
      "source": [
        "Ваша задача - заполнить пропуски # YOUR CODE HERE, и выполнить код"
      ]
    },
    {
      "cell_type": "code",
      "metadata": {
        "id": "Di9fAwYHHbNm",
        "colab_type": "code",
        "colab": {}
      },
      "source": [
        "import numpy as np\n",
        "import pandas as pd\n",
        "from sklearn.tree import DecisionTreeRegressor"
      ],
      "execution_count": 0,
      "outputs": []
    },
    {
      "cell_type": "markdown",
      "metadata": {
        "id": "ajXxgshV-eGp",
        "colab_type": "text"
      },
      "source": [
        "Обязательно фиксируем random state. "
      ]
    },
    {
      "cell_type": "code",
      "metadata": {
        "id": "qT148znn9-ZV",
        "colab_type": "code",
        "colab": {}
      },
      "source": [
        "SEED = 22\n",
        "np.random.seed(SEED)"
      ],
      "execution_count": 0,
      "outputs": []
    },
    {
      "cell_type": "markdown",
      "metadata": {
        "id": "oh3v1hkg-lnZ",
        "colab_type": "text"
      },
      "source": [
        "Реализуем простой градиентный бустинг, в качестве базового алгоритма используем DecisionTreeRegressor из sklearn. "
      ]
    },
    {
      "cell_type": "code",
      "metadata": {
        "id": "TUZblo1jHxCJ",
        "colab_type": "code",
        "colab": {}
      },
      "source": [
        "class SimpleGBRegressor:\n",
        "\n",
        "    def __init__(self, n_estimators=10, max_depth=5, min_samples_leaf=1, learning_rate=0.1, random_state=None):\n",
        "        self.n_estimators = n_estimators\n",
        "        self.max_depth = max_depth\n",
        "        self.min_samples_leaf = min_samples_leaf\n",
        "        self.learning_rate = learning_rate\n",
        "        self.random_state = random_state\n",
        "        self.trees = []\n",
        "        self.was_fit = False\n",
        "\n",
        "    def fit(self, X, y):\n",
        "        # убедиться что в X и y одинаковое число элементов\n",
        "        assert # YOUR CODE HERE\n",
        "        \n",
        "        # инициализировать массив с предсказаниями, заполнив нулями\n",
        "        prediction = # YOUR CODE HERE\n",
        "\n",
        "        # обучаем деревья\n",
        "        for i in range(self.n_estimators):\n",
        "            # посчитать остатки\n",
        "            residual = # YOUR CODE HERE\n",
        "\n",
        "            # инициализировать дерево с нужными параметрами\n",
        "            tree = # YOUR CODE HERE\n",
        "\n",
        "            # обучить дерево\n",
        "            # YOUR CODE HERE\n",
        "\n",
        "            # сделать предсказание текущего дерева\n",
        "            tree_prediction = # YOUR CODE HERE\n",
        "\n",
        "            # сохранить обученное дерево\n",
        "            self.trees.append(tree)\n",
        "\n",
        "            # обновить вектор предсказаний модели\n",
        "            # YOUR CODE HERE\n",
        "\n",
        "        self.was_fit = True\n",
        "        return self\n",
        "\n",
        "    def predict(self, X):\n",
        "        # если модель не была обучена, печатаем сообщение об этом и вовращаем None\n",
        "        # YOUR CODE HERE\n",
        "\n",
        "        # инициализировать массив с предсказаниями\n",
        "        y_pred = # YOUR CODE HERE\n",
        "        \n",
        "        # добавить прогнозы деревьев\n",
        "        for tree in self.trees:\n",
        "            # YOUR CODE HERE\n",
        "\n",
        "        # убедиться что в X и y одинаковое число элементов\n",
        "        assert # YOUR CODE HERE\n",
        "        return y_pred\n",
        "        "
      ],
      "execution_count": 0,
      "outputs": []
    },
    {
      "cell_type": "markdown",
      "metadata": {
        "id": "GfwKeNkIHxKx",
        "colab_type": "text"
      },
      "source": [
        "## Провеярем нашу модель\n"
      ]
    },
    {
      "cell_type": "markdown",
      "metadata": {
        "id": "Iid0LpnS-UPD",
        "colab_type": "text"
      },
      "source": [
        "Загружаем датасет Diabetes. "
      ]
    },
    {
      "cell_type": "code",
      "metadata": {
        "id": "oJzCrOg5cc2E",
        "colab_type": "code",
        "colab": {}
      },
      "source": [
        "from sklearn.datasets import load_diabetes\n",
        "diabetes = load_diabetes()"
      ],
      "execution_count": 0,
      "outputs": []
    },
    {
      "cell_type": "code",
      "metadata": {
        "id": "Gu0Qa9G1ceR1",
        "colab_type": "code",
        "outputId": "e90da4f9-dd4b-4ad7-ee92-781e7fc52df0",
        "colab": {
          "base_uri": "https://localhost:8080/",
          "height": 663
        }
      },
      "source": [
        "print(diabetes['DESCR'])"
      ],
      "execution_count": 0,
      "outputs": [
        {
          "output_type": "stream",
          "text": [
            ".. _diabetes_dataset:\n",
            "\n",
            "Diabetes dataset\n",
            "----------------\n",
            "\n",
            "Ten baseline variables, age, sex, body mass index, average blood\n",
            "pressure, and six blood serum measurements were obtained for each of n =\n",
            "442 diabetes patients, as well as the response of interest, a\n",
            "quantitative measure of disease progression one year after baseline.\n",
            "\n",
            "**Data Set Characteristics:**\n",
            "\n",
            "  :Number of Instances: 442\n",
            "\n",
            "  :Number of Attributes: First 10 columns are numeric predictive values\n",
            "\n",
            "  :Target: Column 11 is a quantitative measure of disease progression one year after baseline\n",
            "\n",
            "  :Attribute Information:\n",
            "      - Age\n",
            "      - Sex\n",
            "      - Body mass index\n",
            "      - Average blood pressure\n",
            "      - S1\n",
            "      - S2\n",
            "      - S3\n",
            "      - S4\n",
            "      - S5\n",
            "      - S6\n",
            "\n",
            "Note: Each of these 10 feature variables have been mean centered and scaled by the standard deviation times `n_samples` (i.e. the sum of squares of each column totals 1).\n",
            "\n",
            "Source URL:\n",
            "https://www4.stat.ncsu.edu/~boos/var.select/diabetes.html\n",
            "\n",
            "For more information see:\n",
            "Bradley Efron, Trevor Hastie, Iain Johnstone and Robert Tibshirani (2004) \"Least Angle Regression,\" Annals of Statistics (with discussion), 407-499.\n",
            "(https://web.stanford.edu/~hastie/Papers/LARS/LeastAngle_2002.pdf)\n"
          ],
          "name": "stdout"
        }
      ]
    },
    {
      "cell_type": "code",
      "metadata": {
        "id": "yL9F53Tacl2z",
        "colab_type": "code",
        "colab": {}
      },
      "source": [
        "data = pd.DataFrame(diabetes['data'], columns=diabetes['feature_names'])\n",
        "target = diabetes.target"
      ],
      "execution_count": 0,
      "outputs": []
    },
    {
      "cell_type": "code",
      "metadata": {
        "id": "Dyg5rdV6dGOD",
        "colab_type": "code",
        "outputId": "bd1f3ba0-1181-4546-87d6-09f71364f2d1",
        "colab": {
          "base_uri": "https://localhost:8080/",
          "height": 359
        }
      },
      "source": [
        "data.head(10)"
      ],
      "execution_count": 0,
      "outputs": [
        {
          "output_type": "execute_result",
          "data": {
            "text/html": [
              "<div>\n",
              "<style scoped>\n",
              "    .dataframe tbody tr th:only-of-type {\n",
              "        vertical-align: middle;\n",
              "    }\n",
              "\n",
              "    .dataframe tbody tr th {\n",
              "        vertical-align: top;\n",
              "    }\n",
              "\n",
              "    .dataframe thead th {\n",
              "        text-align: right;\n",
              "    }\n",
              "</style>\n",
              "<table border=\"1\" class=\"dataframe\">\n",
              "  <thead>\n",
              "    <tr style=\"text-align: right;\">\n",
              "      <th></th>\n",
              "      <th>age</th>\n",
              "      <th>sex</th>\n",
              "      <th>bmi</th>\n",
              "      <th>bp</th>\n",
              "      <th>s1</th>\n",
              "      <th>s2</th>\n",
              "      <th>s3</th>\n",
              "      <th>s4</th>\n",
              "      <th>s5</th>\n",
              "      <th>s6</th>\n",
              "    </tr>\n",
              "  </thead>\n",
              "  <tbody>\n",
              "    <tr>\n",
              "      <th>0</th>\n",
              "      <td>0.038076</td>\n",
              "      <td>0.050680</td>\n",
              "      <td>0.061696</td>\n",
              "      <td>0.021872</td>\n",
              "      <td>-0.044223</td>\n",
              "      <td>-0.034821</td>\n",
              "      <td>-0.043401</td>\n",
              "      <td>-0.002592</td>\n",
              "      <td>0.019908</td>\n",
              "      <td>-0.017646</td>\n",
              "    </tr>\n",
              "    <tr>\n",
              "      <th>1</th>\n",
              "      <td>-0.001882</td>\n",
              "      <td>-0.044642</td>\n",
              "      <td>-0.051474</td>\n",
              "      <td>-0.026328</td>\n",
              "      <td>-0.008449</td>\n",
              "      <td>-0.019163</td>\n",
              "      <td>0.074412</td>\n",
              "      <td>-0.039493</td>\n",
              "      <td>-0.068330</td>\n",
              "      <td>-0.092204</td>\n",
              "    </tr>\n",
              "    <tr>\n",
              "      <th>2</th>\n",
              "      <td>0.085299</td>\n",
              "      <td>0.050680</td>\n",
              "      <td>0.044451</td>\n",
              "      <td>-0.005671</td>\n",
              "      <td>-0.045599</td>\n",
              "      <td>-0.034194</td>\n",
              "      <td>-0.032356</td>\n",
              "      <td>-0.002592</td>\n",
              "      <td>0.002864</td>\n",
              "      <td>-0.025930</td>\n",
              "    </tr>\n",
              "    <tr>\n",
              "      <th>3</th>\n",
              "      <td>-0.089063</td>\n",
              "      <td>-0.044642</td>\n",
              "      <td>-0.011595</td>\n",
              "      <td>-0.036656</td>\n",
              "      <td>0.012191</td>\n",
              "      <td>0.024991</td>\n",
              "      <td>-0.036038</td>\n",
              "      <td>0.034309</td>\n",
              "      <td>0.022692</td>\n",
              "      <td>-0.009362</td>\n",
              "    </tr>\n",
              "    <tr>\n",
              "      <th>4</th>\n",
              "      <td>0.005383</td>\n",
              "      <td>-0.044642</td>\n",
              "      <td>-0.036385</td>\n",
              "      <td>0.021872</td>\n",
              "      <td>0.003935</td>\n",
              "      <td>0.015596</td>\n",
              "      <td>0.008142</td>\n",
              "      <td>-0.002592</td>\n",
              "      <td>-0.031991</td>\n",
              "      <td>-0.046641</td>\n",
              "    </tr>\n",
              "    <tr>\n",
              "      <th>5</th>\n",
              "      <td>-0.092695</td>\n",
              "      <td>-0.044642</td>\n",
              "      <td>-0.040696</td>\n",
              "      <td>-0.019442</td>\n",
              "      <td>-0.068991</td>\n",
              "      <td>-0.079288</td>\n",
              "      <td>0.041277</td>\n",
              "      <td>-0.076395</td>\n",
              "      <td>-0.041180</td>\n",
              "      <td>-0.096346</td>\n",
              "    </tr>\n",
              "    <tr>\n",
              "      <th>6</th>\n",
              "      <td>-0.045472</td>\n",
              "      <td>0.050680</td>\n",
              "      <td>-0.047163</td>\n",
              "      <td>-0.015999</td>\n",
              "      <td>-0.040096</td>\n",
              "      <td>-0.024800</td>\n",
              "      <td>0.000779</td>\n",
              "      <td>-0.039493</td>\n",
              "      <td>-0.062913</td>\n",
              "      <td>-0.038357</td>\n",
              "    </tr>\n",
              "    <tr>\n",
              "      <th>7</th>\n",
              "      <td>0.063504</td>\n",
              "      <td>0.050680</td>\n",
              "      <td>-0.001895</td>\n",
              "      <td>0.066630</td>\n",
              "      <td>0.090620</td>\n",
              "      <td>0.108914</td>\n",
              "      <td>0.022869</td>\n",
              "      <td>0.017703</td>\n",
              "      <td>-0.035817</td>\n",
              "      <td>0.003064</td>\n",
              "    </tr>\n",
              "    <tr>\n",
              "      <th>8</th>\n",
              "      <td>0.041708</td>\n",
              "      <td>0.050680</td>\n",
              "      <td>0.061696</td>\n",
              "      <td>-0.040099</td>\n",
              "      <td>-0.013953</td>\n",
              "      <td>0.006202</td>\n",
              "      <td>-0.028674</td>\n",
              "      <td>-0.002592</td>\n",
              "      <td>-0.014956</td>\n",
              "      <td>0.011349</td>\n",
              "    </tr>\n",
              "    <tr>\n",
              "      <th>9</th>\n",
              "      <td>-0.070900</td>\n",
              "      <td>-0.044642</td>\n",
              "      <td>0.039062</td>\n",
              "      <td>-0.033214</td>\n",
              "      <td>-0.012577</td>\n",
              "      <td>-0.034508</td>\n",
              "      <td>-0.024993</td>\n",
              "      <td>-0.002592</td>\n",
              "      <td>0.067736</td>\n",
              "      <td>-0.013504</td>\n",
              "    </tr>\n",
              "  </tbody>\n",
              "</table>\n",
              "</div>"
            ],
            "text/plain": [
              "        age       sex       bmi  ...        s4        s5        s6\n",
              "0  0.038076  0.050680  0.061696  ... -0.002592  0.019908 -0.017646\n",
              "1 -0.001882 -0.044642 -0.051474  ... -0.039493 -0.068330 -0.092204\n",
              "2  0.085299  0.050680  0.044451  ... -0.002592  0.002864 -0.025930\n",
              "3 -0.089063 -0.044642 -0.011595  ...  0.034309  0.022692 -0.009362\n",
              "4  0.005383 -0.044642 -0.036385  ... -0.002592 -0.031991 -0.046641\n",
              "5 -0.092695 -0.044642 -0.040696  ... -0.076395 -0.041180 -0.096346\n",
              "6 -0.045472  0.050680 -0.047163  ... -0.039493 -0.062913 -0.038357\n",
              "7  0.063504  0.050680 -0.001895  ...  0.017703 -0.035817  0.003064\n",
              "8  0.041708  0.050680  0.061696  ... -0.002592 -0.014956  0.011349\n",
              "9 -0.070900 -0.044642  0.039062  ... -0.002592  0.067736 -0.013504\n",
              "\n",
              "[10 rows x 10 columns]"
            ]
          },
          "metadata": {
            "tags": []
          },
          "execution_count": 8
        }
      ]
    },
    {
      "cell_type": "markdown",
      "metadata": {
        "id": "_9MlwH6q_Tdy",
        "colab_type": "text"
      },
      "source": [
        "Делим на обучающую и тестовую выборку, размер тестовой выборки - 30%. Не забываем про random state."
      ]
    },
    {
      "cell_type": "code",
      "metadata": {
        "id": "oxr8yDxXASJ4",
        "colab_type": "code",
        "colab": {}
      },
      "source": [
        "X_train, X_test, y_train, y_test = # YOUR CODE HERE"
      ],
      "execution_count": 0,
      "outputs": []
    },
    {
      "cell_type": "markdown",
      "metadata": {
        "id": "GQyPhNT3d1eD",
        "colab_type": "text"
      },
      "source": [
        "Обучаем нашу модель и делаем предсказание по тестовой выборке. \n",
        "Параметры модели:\n",
        "+ n_estimators = 100\n",
        "+ random_state - зафиксированный нами ранее\n",
        "+ остальные значения по умолчанию "
      ]
    },
    {
      "cell_type": "code",
      "metadata": {
        "id": "M2My_fX4YYVl",
        "colab_type": "code",
        "outputId": "beee7185-db7f-44fc-831e-67f6a7c1bd82",
        "colab": {
          "base_uri": "https://localhost:8080/",
          "height": 34
        }
      },
      "source": [
        "# создаем и обучаем модель\n",
        "my_model = # YOUR CODE HERE\n",
        "# YOUR CODE HERE"
      ],
      "execution_count": 0,
      "outputs": [
        {
          "output_type": "execute_result",
          "data": {
            "text/plain": [
              "<__main__.SimpleGBRegressor at 0x7f342ea234e0>"
            ]
          },
          "metadata": {
            "tags": []
          },
          "execution_count": 34
        }
      ]
    },
    {
      "cell_type": "code",
      "metadata": {
        "id": "zo0ZJWwXaZJk",
        "colab_type": "code",
        "colab": {}
      },
      "source": [
        "# делаем предсказание по тестовой выборке\n",
        "y_pred = # YOUR CODE HERE"
      ],
      "execution_count": 0,
      "outputs": []
    },
    {
      "cell_type": "markdown",
      "metadata": {
        "id": "GW8x2c8ReGfn",
        "colab_type": "text"
      },
      "source": [
        "Считаем MSE"
      ]
    },
    {
      "cell_type": "code",
      "metadata": {
        "id": "QZFzKmpWAjoa",
        "colab_type": "code",
        "outputId": "bf8f0fca-a0bb-4e29-da8d-821fd2ed62cc",
        "colab": {
          "base_uri": "https://localhost:8080/",
          "height": 34
        }
      },
      "source": [
        "# оцениваем качество\n",
        "mse = # YOUR CODE HERE\n",
        "print(mse)"
      ],
      "execution_count": 0,
      "outputs": [
        {
          "output_type": "stream",
          "text": [
            "3603.512691287584\n"
          ],
          "name": "stdout"
        }
      ]
    },
    {
      "cell_type": "markdown",
      "metadata": {
        "id": "uZyLjRckdjhT",
        "colab_type": "text"
      },
      "source": [
        "Сравниваем с реализацией аналогичного алгоритма из sklearn c **такими же** параметрами (будьте внимательны)"
      ]
    },
    {
      "cell_type": "code",
      "metadata": {
        "id": "i-Lqpi7pAv43",
        "colab_type": "code",
        "outputId": "f993f85a-a543-45cb-f5e5-e53def362758",
        "colab": {
          "base_uri": "https://localhost:8080/",
          "height": 170
        }
      },
      "source": [
        "# создаем и обучаем модель\n",
        "sklearn_model = # YOUR CODE HERE\n",
        "# YOUR CODE HERE"
      ],
      "execution_count": 0,
      "outputs": [
        {
          "output_type": "execute_result",
          "data": {
            "text/plain": [
              "GradientBoostingRegressor(alpha=0.9, ccp_alpha=0.0, criterion='friedman_mse',\n",
              "                          init=None, learning_rate=0.1, loss='ls', max_depth=5,\n",
              "                          max_features=None, max_leaf_nodes=None,\n",
              "                          min_impurity_decrease=0.0, min_impurity_split=None,\n",
              "                          min_samples_leaf=1, min_samples_split=2,\n",
              "                          min_weight_fraction_leaf=0.0, n_estimators=100,\n",
              "                          n_iter_no_change=None, presort='deprecated',\n",
              "                          random_state=None, subsample=1.0, tol=0.0001,\n",
              "                          validation_fraction=0.1, verbose=0, warm_start=False)"
            ]
          },
          "metadata": {
            "tags": []
          },
          "execution_count": 30
        }
      ]
    },
    {
      "cell_type": "code",
      "metadata": {
        "id": "qYGvws1TBBE7",
        "colab_type": "code",
        "colab": {}
      },
      "source": [
        "# делаем предсказание по тестовой выборке\n",
        "y_pred_sklearn = # YOUR CODE HERE"
      ],
      "execution_count": 0,
      "outputs": []
    },
    {
      "cell_type": "code",
      "metadata": {
        "id": "OTd6ejYaBacq",
        "colab_type": "code",
        "outputId": "19251863-4de6-4045-b87d-7c64087aa1e1",
        "colab": {
          "base_uri": "https://localhost:8080/",
          "height": 34
        }
      },
      "source": [
        "# оцениваем качество\n",
        "mse = # YOUR CODE HERE\n",
        "print(mse)"
      ],
      "execution_count": 0,
      "outputs": [
        {
          "output_type": "stream",
          "text": [
            "3652.343370652684\n"
          ],
          "name": "stdout"
        }
      ]
    }
  ]
}