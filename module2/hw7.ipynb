{
 "cells": [
  {
   "cell_type": "markdown",
   "metadata": {
    "colab_type": "text",
    "id": "krzK_Qr_HJux"
   },
   "source": [
    "# Домашнее задание 7. Градиентный бустинг над решающими деревьями. Регрессия. "
   ]
  },
  {
   "cell_type": "markdown",
   "metadata": {
    "colab_type": "text",
    "id": "dCVjmYY3IG6P"
   },
   "source": [
    "Дедлайн: 07.06.2020 23:59"
   ]
  },
  {
   "cell_type": "markdown",
   "metadata": {
    "colab_type": "text",
    "id": "APrspO2sHaz0"
   },
   "source": [
    "При градиентном бустинге деревья обучаются итеративно. Каждое новое дерево обучается на ошибках предыдущего. \n",
    "Алгоритм обучения градиентного бустинга:\n",
    "+ $T$ - количество деревьев\n",
    "+ $\\gamma$ - размер шага (learning_rate)\n",
    "+ $\\{ (x_i, y_i )\\}_{i=1}^N$ - обучающая выборка   \n",
    "\n",
    "\n",
    "1. Инициализировать массив предсказаний $prediction$ ансамбля, заполнив его нулями. \n",
    "2. For $t$ in $1...T$      \n",
    "  2.1. Посчитать остатки - антиградиент функции ошибки.    \n",
    "  ***Ошибка:*** $mse(y,prediction) = (y - prediction)^2$    \n",
    "  ***Градиент:*** $\\nabla_{prediction} mse(y,prediction) = prediction - y$   \n",
    "  ***Антиградиент:*** $residuals_t = y - prediction$    \n",
    "  2.2. Обучить дерево $b_t$, обучающая выборка:$ \\{ (x_i, residuals_{t, i} ) \\}_{i=1}^N$ \n",
    "  (в качестве целевой переменной выступают остатки)   \n",
    "  2.3. Сделать предсказание обученным деревом:     \n",
    "    $prediction_t = b_t(x)$    \n",
    "  2.4. Прибавить предсказанние текущей модели умноженное на размер шага к вектору предсказаний ансамбля: $prediction \\mathrel{+}= \\gamma*prediction_t$    \n",
    "\n",
    "\n",
    "\n",
    "\n",
    "Итоговый ансамбль имеет вид:  $a(x) = \\sum_{t = 1}^T (\\gamma b_t(x))$\n",
    "\n",
    "       "
   ]
  },
  {
   "cell_type": "markdown",
   "metadata": {
    "colab_type": "text",
    "id": "BsAuacJzaz3K"
   },
   "source": [
    "Ваша задача - заполнить пропуски # YOUR CODE HERE, и выполнить код"
   ]
  },
  {
   "cell_type": "code",
   "execution_count": null,
   "metadata": {
    "colab": {},
    "colab_type": "code",
    "id": "Di9fAwYHHbNm"
   },
   "outputs": [],
   "source": [
    "import numpy as np\n",
    "import pandas as pd\n",
    "from sklearn.tree import DecisionTreeRegressor"
   ]
  },
  {
   "cell_type": "markdown",
   "metadata": {
    "colab_type": "text",
    "id": "ajXxgshV-eGp"
   },
   "source": [
    "Обязательно фиксируем random state. "
   ]
  },
  {
   "cell_type": "code",
   "execution_count": null,
   "metadata": {
    "colab": {},
    "colab_type": "code",
    "id": "qT148znn9-ZV"
   },
   "outputs": [],
   "source": [
    "SEED = 22\n",
    "np.random.seed(SEED)"
   ]
  },
  {
   "cell_type": "markdown",
   "metadata": {
    "colab_type": "text",
    "id": "oh3v1hkg-lnZ"
   },
   "source": [
    "Реализуем простой градиентный бустинг, в качестве базового алгоритма используем DecisionTreeRegressor из sklearn. "
   ]
  },
  {
   "cell_type": "code",
   "execution_count": null,
   "metadata": {
    "colab": {},
    "colab_type": "code",
    "id": "TUZblo1jHxCJ"
   },
   "outputs": [],
   "source": [
    "class SimpleGBRegressor:\n",
    "\n",
    "    def __init__(self, n_estimators=10, max_depth=5, \n",
    "                 min_samples_leaf=1, learning_rate=0.1, \n",
    "                 random_state=None):\n",
    "        self.n_estimators = n_estimators\n",
    "        self.max_depth = max_depth\n",
    "        self.min_samples_leaf = min_samples_leaf\n",
    "        self.learning_rate = learning_rate\n",
    "        self.random_state = random_state\n",
    "        self.trees = []\n",
    "        self.was_fit = False\n",
    "\n",
    "    def fit(self, X, y):\n",
    "        # убедиться что в X и y одинаковое число элементов\n",
    "        assert # YOUR CODE HERE\n",
    "        \n",
    "        # инициализировать массив с предсказаниями, заполнив нулями\n",
    "        prediction = # YOUR CODE HERE\n",
    "\n",
    "        # обучаем деревья\n",
    "        for i in range(self.n_estimators):\n",
    "            # посчитать остатки\n",
    "            residual = # YOUR CODE HERE\n",
    "\n",
    "            # инициализировать дерево с нужными параметрами\n",
    "            tree = # YOUR CODE HERE\n",
    "\n",
    "            # обучить дерево\n",
    "            # YOUR CODE HERE\n",
    "\n",
    "            # сделать предсказание текущего дерева\n",
    "            tree_prediction = # YOUR CODE HERE\n",
    "\n",
    "            # сохранить обученное дерево\n",
    "            self.trees.append(tree)\n",
    "\n",
    "            # обновить вектор предсказаний модели\n",
    "            # YOUR CODE HERE\n",
    "\n",
    "        self.was_fit = True\n",
    "        return self\n",
    "\n",
    "    def predict(self, X):\n",
    "        # если модель не была обучена, печатаем сообщение об этом и вовращаем None\n",
    "        # YOUR CODE HERE\n",
    "\n",
    "        # инициализировать массив с предсказаниями\n",
    "        y_pred = # YOUR CODE HERE\n",
    "        \n",
    "        # добавить прогнозы деревьев\n",
    "        for tree in self.trees:\n",
    "            # YOUR CODE HERE\n",
    "\n",
    "        # убедиться что в X и y одинаковое число элементов\n",
    "        assert # YOUR CODE HERE\n",
    "        return y_pred\n",
    "        "
   ]
  },
  {
   "cell_type": "markdown",
   "metadata": {
    "colab_type": "text",
    "id": "GfwKeNkIHxKx"
   },
   "source": [
    "## Провеярем нашу модель\n"
   ]
  },
  {
   "cell_type": "markdown",
   "metadata": {
    "colab_type": "text",
    "id": "Iid0LpnS-UPD"
   },
   "source": [
    "Загружаем датасет Diabetes. "
   ]
  },
  {
   "cell_type": "code",
   "execution_count": null,
   "metadata": {
    "colab": {},
    "colab_type": "code",
    "id": "oJzCrOg5cc2E"
   },
   "outputs": [],
   "source": [
    "from sklearn.datasets import load_diabetes\n",
    "diabetes = load_diabetes()"
   ]
  },
  {
   "cell_type": "code",
   "execution_count": null,
   "metadata": {
    "colab": {
     "base_uri": "https://localhost:8080/",
     "height": 663
    },
    "colab_type": "code",
    "id": "Gu0Qa9G1ceR1",
    "outputId": "e90da4f9-dd4b-4ad7-ee92-781e7fc52df0"
   },
   "outputs": [],
   "source": [
    "print(diabetes['DESCR'])"
   ]
  },
  {
   "cell_type": "code",
   "execution_count": null,
   "metadata": {
    "colab": {},
    "colab_type": "code",
    "id": "yL9F53Tacl2z"
   },
   "outputs": [],
   "source": [
    "data = pd.DataFrame(diabetes['data'], columns=diabetes['feature_names'])\n",
    "target = diabetes.target"
   ]
  },
  {
   "cell_type": "code",
   "execution_count": null,
   "metadata": {
    "colab": {
     "base_uri": "https://localhost:8080/",
     "height": 359
    },
    "colab_type": "code",
    "id": "Dyg5rdV6dGOD",
    "outputId": "bd1f3ba0-1181-4546-87d6-09f71364f2d1"
   },
   "outputs": [],
   "source": [
    "data.head(10)"
   ]
  },
  {
   "cell_type": "markdown",
   "metadata": {
    "colab_type": "text",
    "id": "_9MlwH6q_Tdy"
   },
   "source": [
    "Делим на обучающую и тестовую выборку, размер тестовой выборки - 30%. Не забываем про random state."
   ]
  },
  {
   "cell_type": "code",
   "execution_count": null,
   "metadata": {
    "colab": {},
    "colab_type": "code",
    "id": "oxr8yDxXASJ4"
   },
   "outputs": [],
   "source": [
    "X_train, X_test, y_train, y_test = # YOUR CODE HERE"
   ]
  },
  {
   "cell_type": "markdown",
   "metadata": {
    "colab_type": "text",
    "id": "GQyPhNT3d1eD"
   },
   "source": [
    "Обучаем нашу модель и делаем предсказание по тестовой выборке. \n",
    "Параметры модели:\n",
    "+ n_estimators = 100\n",
    "+ random_state - зафиксированный нами ранее\n",
    "+ остальные значения по умолчанию "
   ]
  },
  {
   "cell_type": "code",
   "execution_count": null,
   "metadata": {
    "colab": {
     "base_uri": "https://localhost:8080/",
     "height": 34
    },
    "colab_type": "code",
    "id": "M2My_fX4YYVl",
    "outputId": "beee7185-db7f-44fc-831e-67f6a7c1bd82"
   },
   "outputs": [],
   "source": [
    "# создаем и обучаем модель\n",
    "my_model = # YOUR CODE HERE\n",
    "# YOUR CODE HERE"
   ]
  },
  {
   "cell_type": "code",
   "execution_count": null,
   "metadata": {
    "colab": {},
    "colab_type": "code",
    "id": "zo0ZJWwXaZJk"
   },
   "outputs": [],
   "source": [
    "# делаем предсказание по тестовой выборке\n",
    "y_pred = # YOUR CODE HERE"
   ]
  },
  {
   "cell_type": "markdown",
   "metadata": {
    "colab_type": "text",
    "id": "GW8x2c8ReGfn"
   },
   "source": [
    "Считаем MSE"
   ]
  },
  {
   "cell_type": "code",
   "execution_count": null,
   "metadata": {
    "colab": {
     "base_uri": "https://localhost:8080/",
     "height": 34
    },
    "colab_type": "code",
    "id": "QZFzKmpWAjoa",
    "outputId": "bf8f0fca-a0bb-4e29-da8d-821fd2ed62cc"
   },
   "outputs": [],
   "source": [
    "# оцениваем качество\n",
    "mse = # YOUR CODE HERE\n",
    "print(mse)"
   ]
  },
  {
   "cell_type": "markdown",
   "metadata": {
    "colab_type": "text",
    "id": "uZyLjRckdjhT"
   },
   "source": [
    "Сравниваем с реализацией аналогичного алгоритма из sklearn c **такими же** параметрами (будьте внимательны)"
   ]
  },
  {
   "cell_type": "code",
   "execution_count": null,
   "metadata": {
    "colab": {
     "base_uri": "https://localhost:8080/",
     "height": 170
    },
    "colab_type": "code",
    "id": "i-Lqpi7pAv43",
    "outputId": "f993f85a-a543-45cb-f5e5-e53def362758"
   },
   "outputs": [],
   "source": [
    "# создаем и обучаем модель\n",
    "sklearn_model = # YOUR CODE HERE\n",
    "# YOUR CODE HERE"
   ]
  },
  {
   "cell_type": "code",
   "execution_count": null,
   "metadata": {
    "colab": {},
    "colab_type": "code",
    "id": "qYGvws1TBBE7"
   },
   "outputs": [],
   "source": [
    "# делаем предсказание по тестовой выборке\n",
    "y_pred_sklearn = # YOUR CODE HERE"
   ]
  },
  {
   "cell_type": "code",
   "execution_count": null,
   "metadata": {
    "colab": {
     "base_uri": "https://localhost:8080/",
     "height": 34
    },
    "colab_type": "code",
    "id": "OTd6ejYaBacq",
    "outputId": "19251863-4de6-4045-b87d-7c64087aa1e1"
   },
   "outputs": [],
   "source": [
    "# оцениваем качество\n",
    "mse = # YOUR CODE HERE\n",
    "print(mse)"
   ]
  }
 ],
 "metadata": {
  "colab": {
   "collapsed_sections": [],
   "name": "hw7.ipynb",
   "provenance": []
  },
  "kernelspec": {
   "display_name": "Python 3",
   "language": "python",
   "name": "python3"
  },
  "language_info": {
   "codemirror_mode": {
    "name": "ipython",
    "version": 3
   },
   "file_extension": ".py",
   "mimetype": "text/x-python",
   "name": "python",
   "nbconvert_exporter": "python",
   "pygments_lexer": "ipython3",
   "version": "3.7.4"
  }
 },
 "nbformat": 4,
 "nbformat_minor": 1
}
